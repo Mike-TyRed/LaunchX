{
 "cells": [
  {
   "cell_type": "markdown",
   "metadata": {},
   "source": [
    "# Ejercicio 1: Uso de funciones en Python"
   ]
  },
  {
   "cell_type": "markdown",
   "metadata": {},
   "source": [
    "Comienza por crear una función que necesite tres lecturas de combustible y devuelva un informe:"
   ]
  },
  {
   "cell_type": "code",
   "execution_count": 41,
   "metadata": {},
   "outputs": [],
   "source": [
    "# Función para leer 3 tanques de combustible y muestre el promedio\n",
    "def lectura_combustible(tanque1, tanque2, tanque3):\n",
    "    promedio = (tanque1 + tanque2 + tanque3) / 3\n",
    "    print(f\"\"\"Informe:\n",
    "    Tanque 1: {tanque1}%\n",
    "    Tanque 2: {tanque2}%\n",
    "    Tanque 3: {tanque3}%\n",
    "    Total: {promedio}%\n",
    "    \"\"\")"
   ]
  },
  {
   "cell_type": "code",
   "execution_count": 42,
   "metadata": {},
   "outputs": [
    {
     "name": "stdout",
     "output_type": "stream",
     "text": [
      "Informe:\n",
      "    Tanque 1: 25%\n",
      "    Tanque 2: 50%\n",
      "    Tanque 3: 75%\n",
      "    Total: 50.0%\n",
      "    \n"
     ]
    }
   ],
   "source": [
    "# Llamamos a la función que genera el reporte print(funcion(tanque1, tanque2, tanque3))\n",
    "lectura_combustible(25,50,75)"
   ]
  },
  {
   "cell_type": "code",
   "execution_count": 48,
   "metadata": {},
   "outputs": [
    {
     "data": {
      "text/plain": [
       "50.0"
      ]
     },
     "execution_count": 48,
     "metadata": {},
     "output_type": "execute_result"
    }
   ],
   "source": [
    "#Función promedio\n",
    "def promedio(tanques):\n",
    "    promedio = sum(tanques) / len(tanques)\n",
    "    return promedio\n",
    "\n",
    "promedio([25,50,75])"
   ]
  },
  {
   "cell_type": "markdown",
   "metadata": {},
   "source": [
    "Ahora actualiza la función de informes para llamando a la nueva función del promedio:"
   ]
  },
  {
   "cell_type": "code",
   "execution_count": 49,
   "metadata": {},
   "outputs": [
    {
     "name": "stdout",
     "output_type": "stream",
     "text": [
      "Informe:\n",
      "    Tanque 1: 25%\n",
      "    Tanque 2: 50%\n",
      "    Tanque 3: 75%\n",
      "    Total: 50.0%\n",
      "    \n"
     ]
    }
   ],
   "source": [
    "def lectura_combustible(tanque1, tanque2, tanque3):\n",
    "    print(f\"\"\"Informe:\n",
    "    Tanque 1: {tanque1}%\n",
    "    Tanque 2: {tanque2}%\n",
    "    Tanque 3: {tanque3}%\n",
    "    Total: {promedio([tanque1,tanque2,tanque3])}%\n",
    "    \"\"\")\n",
    "    \n",
    "lectura_combustible(25,50,75)"
   ]
  },
  {
   "cell_type": "markdown",
   "metadata": {},
   "source": [
    "# Ejercicio 2: Trabajo con argumentos de palabra clave\n",
    "\n",
    "Función con un informe preciso de la misión. Considera hora de prelanzamiento, tiempo de vuelo, destino, tanque externo y tanque interno"
   ]
  },
  {
   "cell_type": "code",
   "execution_count": 53,
   "metadata": {},
   "outputs": [
    {
     "name": "stdout",
     "output_type": "stream",
     "text": [
      "Informe:\n",
      "    Hora de prelanzamiento: 9am\n",
      "    Tiempo de vuelo: 2min\n",
      "    Destino: México\n",
      "    Tanque externo: 85%\n",
      "    Tanque interno: 29%\n",
      "    \n"
     ]
    }
   ],
   "source": [
    "def Informe(hora,tiempo,destino,taex,tain):\n",
    "    print(f\"\"\"Informe:\n",
    "    Hora de prelanzamiento: {hora}am\n",
    "    Tiempo de vuelo: {tiempo}min\n",
    "    Destino: {destino}\n",
    "    Tanque externo: {taex}%\n",
    "    Tanque interno: {tain}%\n",
    "    \"\"\")\n",
    "\n",
    "Informe(9,2,\"México\",85,29)"
   ]
  },
  {
   "cell_type": "code",
   "execution_count": 70,
   "metadata": {},
   "outputs": [
    {
     "name": "stdout",
     "output_type": "stream",
     "text": [
      "Informe:\n",
      "    Hora de prelanzamiento: 9am\n",
      "    Tiempo de vuelo: 300min\n",
      "    Destino: México\n",
      "    Tanques: 114%\n",
      "    \n"
     ]
    }
   ],
   "source": [
    "# Escribe tu nueva función de reporte considerando lo anterior\n",
    "def Informe(destino,hora,*tiempo,**combustible):\n",
    "    print(f\"\"\"Informe:\n",
    "    Hora de prelanzamiento: {hora}am\n",
    "    Tiempo de vuelo: {sum(tiempo)}min\n",
    "    Destino: {destino}\n",
    "    Tanques: {sum(combustible.values())}%\n",
    "    \"\"\")\n",
    "\n",
    "Informe(\"México\",9,200,100,Interno = 85,Externo= 29)"
   ]
  },
  {
   "cell_type": "markdown",
   "metadata": {},
   "source": [
    "Debido a que el combustible que queda en los tanques es específico de cada tanque, actualiza la función para usar el nombre de cada tanque en el informe:"
   ]
  },
  {
   "cell_type": "code",
   "execution_count": 85,
   "metadata": {},
   "outputs": [
    {
     "name": "stdout",
     "output_type": "stream",
     "text": [
      "Izq:100\n",
      "Der:200\n"
     ]
    }
   ],
   "source": [
    "def Combustible(**combustible):\n",
    "    for nombre, contenido in combustible.items():\n",
    "        print(f'{nombre}:{contenido}')\n",
    "\n",
    "Combustible(Izq = 100, Der = 200)"
   ]
  },
  {
   "cell_type": "code",
   "execution_count": 87,
   "metadata": {},
   "outputs": [
    {
     "name": "stdout",
     "output_type": "stream",
     "text": [
      "Informe:\n",
      "    Hora de prelanzamiento: 9am\n",
      "    Tiempo de vuelo: 300min\n",
      "    Destino: México\n",
      "    \n",
      "Interno:85\n",
      "Externo:29\n"
     ]
    }
   ],
   "source": [
    "# Escribe tu nueva función\n",
    "def Informe(destino,hora,*tiempo,**combustible):\n",
    "    print(f\"\"\"Informe:\n",
    "    Hora de prelanzamiento: {hora}am\n",
    "    Tiempo de vuelo: {sum(tiempo)}min\n",
    "    Destino: {destino}\n",
    "    \"\"\")\n",
    "    for nombre, contenido in combustible.items():\n",
    "        print(f'{nombre}:{contenido}')\n",
    "\n",
    "Informe(\"México\",9,200,100,Interno = 85,Externo= 29)"
   ]
  }
 ],
 "metadata": {
  "interpreter": {
   "hash": "2be5faf79681da6f2a61fdfdd5405d65d042280f7fba6178067603e3a2925119"
  },
  "kernelspec": {
   "display_name": "Python 3.10.1 64-bit",
   "language": "python",
   "name": "python3"
  },
  "language_info": {
   "codemirror_mode": {
    "name": "ipython",
    "version": 3
   },
   "file_extension": ".py",
   "mimetype": "text/x-python",
   "name": "python",
   "nbconvert_exporter": "python",
   "pygments_lexer": "ipython3",
   "version": "3.10.1"
  },
  "orig_nbformat": 4
 },
 "nbformat": 4,
 "nbformat_minor": 2
}
